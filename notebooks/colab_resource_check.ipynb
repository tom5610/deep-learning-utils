{
 "cells": [
  {
   "cell_type": "markdown",
   "metadata": {
    "id": "SKQ4bH7qMGrA"
   },
   "source": [
    "# Check Colab Resources\n",
    "\n",
    "> Mainly use this to check on Colab environment and it also can be used in others.\n"
   ]
  },
  {
   "cell_type": "markdown",
   "metadata": {
    "id": "QMMqmdiYMkvi"
   },
   "source": [
    "## What's the GPU Type\n",
    "\n",
    "With diff Colab subscription, you may get different GPU type: such as T4, P100, or even slower K80. It's good to understand your GPU capacities before running Deep Learning model training.\n",
    "\n",
    "If the execution result of running the code cell below is 'Not connected to a GPU', you can change the runtime by going to Runtime &gt; Change runtime type in the menu to enable a GPU accelerator, and then re-execute the code cell."
   ]
  },
  {
   "cell_type": "code",
   "execution_count": null,
   "metadata": {
    "id": "23TOba33L4qf"
   },
   "outputs": [],
   "source": [
    "gpu_info = !nvidia-smi\n",
    "gpu_info = '\\n'.join(gpu_info)\n",
    "if gpu_info.find('failed') >= 0:\n",
    "  print('Not connected to a GPU')\n",
    "else:\n",
    "  print(gpu_info)"
   ]
  },
  {
   "cell_type": "markdown",
   "metadata": {
    "id": "Sa-IrJS1aRVJ"
   },
   "source": [
    "In order to use a GPU with your notebook, select the Runtime &gt; Change runtime type menu, and then set the hardware accelerator drop-down to GPU."
   ]
  },
  {
   "cell_type": "markdown",
   "metadata": {
    "id": "65MSuHKqNeBZ"
   },
   "source": [
    "## More memory\n",
    "\n",
    "<p>With Colab Pro, you have the option to access high-memory VMs when they are available, and with Pro+ even more so. To set your notebook preference to use a high-memory runtime, select the runtime &gt; 'Change runtime type' menu, and then select High-RAM in the runtime shape drop-down.</p>\n",
    "<p>You can see how much memory you have available at any time by running the following code cell.</p>\n",
    "If the execution result of running the code cell below is 'Not using a high-RAM runtime', then you can enable a high-RAM runtime via Runtime &gt; Change runtime type in the menu. Then select High-RAM in the Runtime shape drop-down. After, re-execute the code cell."
   ]
  },
  {
   "cell_type": "code",
   "execution_count": null,
   "metadata": {
    "id": "V1G82GuO-tez"
   },
   "outputs": [],
   "source": [
    "from psutil import virtual_memory\n",
    "ram_gb = virtual_memory().total / 1e9\n",
    "print('Your runtime has {:.1f} gigabytes of available RAM\\n'.format(ram_gb))\n",
    "\n",
    "if ram_gb < 20:\n",
    "  print('Not using a high-RAM runtime')\n",
    "else:\n",
    "  print('You are using a high-RAM runtime!')"
   ]
  },
  {
   "cell_type": "code",
   "execution_count": null,
   "metadata": {},
   "outputs": [],
   "source": []
  }
 ],
 "metadata": {
  "colab": {
   "collapsed_sections": [],
   "name": "Making the most of your colab subscription",
   "provenance": []
  },
  "instance_type": "ml.g4dn.xlarge",
  "kernelspec": {
   "display_name": "Python 3 (PyTorch 1.8 Python 3.6 GPU Optimized)",
   "language": "python",
   "name": "python3__SAGEMAKER_INTERNAL__arn:aws:sagemaker:ap-southeast-2:452832661640:image/pytorch-1.8-gpu-py36"
  },
  "language_info": {
   "codemirror_mode": {
    "name": "ipython",
    "version": 3
   },
   "file_extension": ".py",
   "mimetype": "text/x-python",
   "name": "python",
   "nbconvert_exporter": "python",
   "pygments_lexer": "ipython3",
   "version": "3.6.13"
  }
 },
 "nbformat": 4,
 "nbformat_minor": 4
}
